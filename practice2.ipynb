{
 "cells": [
  {
   "cell_type": "code",
   "execution_count": 3,
   "id": "5b0425ac",
   "metadata": {},
   "outputs": [
    {
     "name": "stdout",
     "output_type": "stream",
     "text": [
      "['10', '11', '12', '13', '14']\n",
      "[10, 11, 12, 13, 14]\n"
     ]
    }
   ],
   "source": [
    "string = '10,11,12,13,14'\n",
    "\n",
    "ss = string.split(',')\n",
    "print(ss)\n",
    "for index, s in enumerate(ss):\n",
    "    ss[index] = int(s)\n",
    "    \n",
    "print(ss)\n",
    " "
   ]
  },
  {
   "cell_type": "code",
   "execution_count": 9,
   "id": "c70eebc9",
   "metadata": {},
   "outputs": [
    {
     "data": {
      "text/plain": [
       "'davt'"
      ]
     },
     "execution_count": 9,
     "metadata": {},
     "output_type": "execute_result"
    }
   ],
   "source": [
    "import re\n",
    "c = '(davt)'\n",
    "\n",
    "re.sub('[^A-Za-z0-9]','',c)\n"
   ]
  },
  {
   "cell_type": "code",
   "execution_count": 11,
   "id": "639b8833",
   "metadata": {},
   "outputs": [
    {
     "data": {
      "text/plain": [
       "'dava dava dava da'"
      ]
     },
     "execution_count": 11,
     "metadata": {},
     "output_type": "execute_result"
    }
   ],
   "source": [
    "b = 'dda d1a dda da'\n",
    "\n",
    "re.sub('d.a','dava',b)"
   ]
  },
  {
   "cell_type": "code",
   "execution_count": 13,
   "id": "2b88e122",
   "metadata": {},
   "outputs": [
    {
     "data": {
      "text/plain": [
       "<re.Match object; span=(0, 3), match='daa'>"
      ]
     },
     "execution_count": 13,
     "metadata": {},
     "output_type": "execute_result"
    }
   ],
   "source": [
    "pat = re.compile('d.a')\n",
    "\n",
    "pat.search('daa')"
   ]
  },
  {
   "cell_type": "code",
   "execution_count": null,
   "id": "3d3f401e",
   "metadata": {},
   "outputs": [],
   "source": []
  }
 ],
 "metadata": {
  "kernelspec": {
   "display_name": "Python 3 (ipykernel)",
   "language": "python",
   "name": "python3"
  },
  "language_info": {
   "codemirror_mode": {
    "name": "ipython",
    "version": 3
   },
   "file_extension": ".py",
   "mimetype": "text/x-python",
   "name": "python",
   "nbconvert_exporter": "python",
   "pygments_lexer": "ipython3",
   "version": "3.10.9"
  }
 },
 "nbformat": 4,
 "nbformat_minor": 5
}
